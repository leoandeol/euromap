{
 "cells": [
  {
   "cell_type": "code",
   "execution_count": 142,
   "id": "f2dc1014",
   "metadata": {},
   "outputs": [],
   "source": [
    "import geopandas\n",
    "import pandas as pd\n",
    "import geopandas as gpd\n",
    "import folium"
   ]
  },
  {
   "cell_type": "code",
   "execution_count": 143,
   "id": "ce171833",
   "metadata": {},
   "outputs": [],
   "source": [
    "data = pd.read_csv('data/poland/RYNE_3786_CTAB_20250509085604.csv', sep=';')"
   ]
  },
  {
   "cell_type": "code",
   "execution_count": 144,
   "id": "f40b7a39",
   "metadata": {},
   "outputs": [
    {
     "data": {
      "text/html": [
       "<div>\n",
       "<style scoped>\n",
       "    .dataframe tbody tr th:only-of-type {\n",
       "        vertical-align: middle;\n",
       "    }\n",
       "\n",
       "    .dataframe tbody tr th {\n",
       "        vertical-align: top;\n",
       "    }\n",
       "\n",
       "    .dataframe thead th {\n",
       "        text-align: right;\n",
       "    }\n",
       "</style>\n",
       "<table border=\"1\" class=\"dataframe\">\n",
       "  <thead>\n",
       "    <tr style=\"text-align: right;\">\n",
       "      <th></th>\n",
       "      <th>Code</th>\n",
       "      <th>Name</th>\n",
       "      <th>total;total;2020;[PLN]</th>\n",
       "      <th>total;total;2021;[PLN]</th>\n",
       "      <th>total;total;2022;[PLN]</th>\n",
       "      <th>total;total;2023;[PLN]</th>\n",
       "      <th>total;total;2024;[PLN]</th>\n",
       "      <th>total;to 40 m2;2020;[PLN]</th>\n",
       "      <th>total;to 40 m2;2021;[PLN]</th>\n",
       "      <th>total;to 40 m2;2022;[PLN]</th>\n",
       "      <th>...</th>\n",
       "      <th>secondary market;from 60.1 to 80 m2;2021;[PLN]</th>\n",
       "      <th>secondary market;from 60.1 to 80 m2;2022;[PLN]</th>\n",
       "      <th>secondary market;from 60.1 to 80 m2;2023;[PLN]</th>\n",
       "      <th>secondary market;from 60.1 to 80 m2;2024;[PLN]</th>\n",
       "      <th>secondary market;from 80.1 m2;2020;[PLN]</th>\n",
       "      <th>secondary market;from 80.1 m2;2021;[PLN]</th>\n",
       "      <th>secondary market;from 80.1 m2;2022;[PLN]</th>\n",
       "      <th>secondary market;from 80.1 m2;2023;[PLN]</th>\n",
       "      <th>secondary market;from 80.1 m2;2024;[PLN]</th>\n",
       "      <th>Unnamed: 77</th>\n",
       "    </tr>\n",
       "  </thead>\n",
       "  <tbody>\n",
       "    <tr>\n",
       "      <th>0</th>\n",
       "      <td>0</td>\n",
       "      <td>POLAND</td>\n",
       "      <td>311467</td>\n",
       "      <td>348988</td>\n",
       "      <td>393524</td>\n",
       "      <td>427466</td>\n",
       "      <td>NaN</td>\n",
       "      <td>201152</td>\n",
       "      <td>226284</td>\n",
       "      <td>261041</td>\n",
       "      <td>...</td>\n",
       "      <td>388297</td>\n",
       "      <td>452500</td>\n",
       "      <td>512719</td>\n",
       "      <td>NaN</td>\n",
       "      <td>549670</td>\n",
       "      <td>607904</td>\n",
       "      <td>758603</td>\n",
       "      <td>829766</td>\n",
       "      <td>NaN</td>\n",
       "      <td>NaN</td>\n",
       "    </tr>\n",
       "    <tr>\n",
       "      <th>1</th>\n",
       "      <td>200000</td>\n",
       "      <td>DOLNOŚLĄSKIE</td>\n",
       "      <td>268487</td>\n",
       "      <td>340342</td>\n",
       "      <td>380369</td>\n",
       "      <td>419625</td>\n",
       "      <td>NaN</td>\n",
       "      <td>167974</td>\n",
       "      <td>222302</td>\n",
       "      <td>258875</td>\n",
       "      <td>...</td>\n",
       "      <td>352027</td>\n",
       "      <td>404170</td>\n",
       "      <td>463270</td>\n",
       "      <td>NaN</td>\n",
       "      <td>390941</td>\n",
       "      <td>467390</td>\n",
       "      <td>540474</td>\n",
       "      <td>616124</td>\n",
       "      <td>NaN</td>\n",
       "      <td>NaN</td>\n",
       "    </tr>\n",
       "    <tr>\n",
       "      <th>2</th>\n",
       "      <td>201000</td>\n",
       "      <td>Powiat bolesławiecki</td>\n",
       "      <td>223395</td>\n",
       "      <td>225740</td>\n",
       "      <td>248481</td>\n",
       "      <td>287441</td>\n",
       "      <td>NaN</td>\n",
       "      <td>116331</td>\n",
       "      <td>127699</td>\n",
       "      <td>168995</td>\n",
       "      <td>...</td>\n",
       "      <td>269723</td>\n",
       "      <td>289078</td>\n",
       "      <td>394540</td>\n",
       "      <td>NaN</td>\n",
       "      <td>304779</td>\n",
       "      <td>320632</td>\n",
       "      <td>345199</td>\n",
       "      <td>420925</td>\n",
       "      <td>NaN</td>\n",
       "      <td>NaN</td>\n",
       "    </tr>\n",
       "    <tr>\n",
       "      <th>3</th>\n",
       "      <td>202000</td>\n",
       "      <td>Powiat dzierżoniowski</td>\n",
       "      <td>115134</td>\n",
       "      <td>146681</td>\n",
       "      <td>156434</td>\n",
       "      <td>223186</td>\n",
       "      <td>NaN</td>\n",
       "      <td>73698</td>\n",
       "      <td>87044</td>\n",
       "      <td>102323</td>\n",
       "      <td>...</td>\n",
       "      <td>187085</td>\n",
       "      <td>202571</td>\n",
       "      <td>247649</td>\n",
       "      <td>NaN</td>\n",
       "      <td>202386</td>\n",
       "      <td>311299</td>\n",
       "      <td>236726</td>\n",
       "      <td>359145</td>\n",
       "      <td>NaN</td>\n",
       "      <td>NaN</td>\n",
       "    </tr>\n",
       "    <tr>\n",
       "      <th>4</th>\n",
       "      <td>203000</td>\n",
       "      <td>Powiat głogowski</td>\n",
       "      <td>215504</td>\n",
       "      <td>235327</td>\n",
       "      <td>263513</td>\n",
       "      <td>278506</td>\n",
       "      <td>NaN</td>\n",
       "      <td>132053</td>\n",
       "      <td>152369</td>\n",
       "      <td>155974</td>\n",
       "      <td>...</td>\n",
       "      <td>289564</td>\n",
       "      <td>303585</td>\n",
       "      <td>313409</td>\n",
       "      <td>NaN</td>\n",
       "      <td>352675</td>\n",
       "      <td>400239</td>\n",
       "      <td>431744</td>\n",
       "      <td>489586</td>\n",
       "      <td>NaN</td>\n",
       "      <td>NaN</td>\n",
       "    </tr>\n",
       "  </tbody>\n",
       "</table>\n",
       "<p>5 rows × 78 columns</p>\n",
       "</div>"
      ],
      "text/plain": [
       "     Code                   Name  total;total;2020;[PLN]  \\\n",
       "0       0                 POLAND                  311467   \n",
       "1  200000           DOLNOŚLĄSKIE                  268487   \n",
       "2  201000   Powiat bolesławiecki                  223395   \n",
       "3  202000  Powiat dzierżoniowski                  115134   \n",
       "4  203000       Powiat głogowski                  215504   \n",
       "\n",
       "   total;total;2021;[PLN]  total;total;2022;[PLN]  total;total;2023;[PLN]  \\\n",
       "0                  348988                  393524                  427466   \n",
       "1                  340342                  380369                  419625   \n",
       "2                  225740                  248481                  287441   \n",
       "3                  146681                  156434                  223186   \n",
       "4                  235327                  263513                  278506   \n",
       "\n",
       "   total;total;2024;[PLN]  total;to 40 m2;2020;[PLN]  \\\n",
       "0                     NaN                     201152   \n",
       "1                     NaN                     167974   \n",
       "2                     NaN                     116331   \n",
       "3                     NaN                      73698   \n",
       "4                     NaN                     132053   \n",
       "\n",
       "   total;to 40 m2;2021;[PLN]  total;to 40 m2;2022;[PLN]  ...  \\\n",
       "0                     226284                     261041  ...   \n",
       "1                     222302                     258875  ...   \n",
       "2                     127699                     168995  ...   \n",
       "3                      87044                     102323  ...   \n",
       "4                     152369                     155974  ...   \n",
       "\n",
       "   secondary market;from 60.1 to 80 m2;2021;[PLN]  \\\n",
       "0                                          388297   \n",
       "1                                          352027   \n",
       "2                                          269723   \n",
       "3                                          187085   \n",
       "4                                          289564   \n",
       "\n",
       "   secondary market;from 60.1 to 80 m2;2022;[PLN]  \\\n",
       "0                                          452500   \n",
       "1                                          404170   \n",
       "2                                          289078   \n",
       "3                                          202571   \n",
       "4                                          303585   \n",
       "\n",
       "   secondary market;from 60.1 to 80 m2;2023;[PLN]  \\\n",
       "0                                          512719   \n",
       "1                                          463270   \n",
       "2                                          394540   \n",
       "3                                          247649   \n",
       "4                                          313409   \n",
       "\n",
       "   secondary market;from 60.1 to 80 m2;2024;[PLN]  \\\n",
       "0                                             NaN   \n",
       "1                                             NaN   \n",
       "2                                             NaN   \n",
       "3                                             NaN   \n",
       "4                                             NaN   \n",
       "\n",
       "   secondary market;from 80.1 m2;2020;[PLN]  \\\n",
       "0                                    549670   \n",
       "1                                    390941   \n",
       "2                                    304779   \n",
       "3                                    202386   \n",
       "4                                    352675   \n",
       "\n",
       "   secondary market;from 80.1 m2;2021;[PLN]  \\\n",
       "0                                    607904   \n",
       "1                                    467390   \n",
       "2                                    320632   \n",
       "3                                    311299   \n",
       "4                                    400239   \n",
       "\n",
       "   secondary market;from 80.1 m2;2022;[PLN]  \\\n",
       "0                                    758603   \n",
       "1                                    540474   \n",
       "2                                    345199   \n",
       "3                                    236726   \n",
       "4                                    431744   \n",
       "\n",
       "   secondary market;from 80.1 m2;2023;[PLN]  \\\n",
       "0                                    829766   \n",
       "1                                    616124   \n",
       "2                                    420925   \n",
       "3                                    359145   \n",
       "4                                    489586   \n",
       "\n",
       "   secondary market;from 80.1 m2;2024;[PLN]  Unnamed: 77  \n",
       "0                                       NaN          NaN  \n",
       "1                                       NaN          NaN  \n",
       "2                                       NaN          NaN  \n",
       "3                                       NaN          NaN  \n",
       "4                                       NaN          NaN  \n",
       "\n",
       "[5 rows x 78 columns]"
      ]
     },
     "execution_count": 144,
     "metadata": {},
     "output_type": "execute_result"
    }
   ],
   "source": [
    "data.head()"
   ]
  },
  {
   "cell_type": "code",
   "execution_count": 145,
   "id": "798af15c",
   "metadata": {},
   "outputs": [
    {
     "data": {
      "text/html": [
       "<div>\n",
       "<style scoped>\n",
       "    .dataframe tbody tr th:only-of-type {\n",
       "        vertical-align: middle;\n",
       "    }\n",
       "\n",
       "    .dataframe tbody tr th {\n",
       "        vertical-align: top;\n",
       "    }\n",
       "\n",
       "    .dataframe thead th {\n",
       "        text-align: right;\n",
       "    }\n",
       "</style>\n",
       "<table border=\"1\" class=\"dataframe\">\n",
       "  <thead>\n",
       "    <tr style=\"text-align: right;\">\n",
       "      <th></th>\n",
       "      <th>Code</th>\n",
       "      <th>Name</th>\n",
       "      <th>Price</th>\n",
       "      <th>Price Increase</th>\n",
       "    </tr>\n",
       "  </thead>\n",
       "  <tbody>\n",
       "    <tr>\n",
       "      <th>0</th>\n",
       "      <td>0</td>\n",
       "      <td>POLAND</td>\n",
       "      <td>427466</td>\n",
       "      <td>0.372428</td>\n",
       "    </tr>\n",
       "    <tr>\n",
       "      <th>1</th>\n",
       "      <td>200000</td>\n",
       "      <td>DOLNOŚLĄSKIE</td>\n",
       "      <td>419625</td>\n",
       "      <td>0.562925</td>\n",
       "    </tr>\n",
       "    <tr>\n",
       "      <th>2</th>\n",
       "      <td>201000</td>\n",
       "      <td>Powiat bolesławiecki</td>\n",
       "      <td>287441</td>\n",
       "      <td>0.286694</td>\n",
       "    </tr>\n",
       "    <tr>\n",
       "      <th>3</th>\n",
       "      <td>202000</td>\n",
       "      <td>Powiat dzierżoniowski</td>\n",
       "      <td>223186</td>\n",
       "      <td>0.938489</td>\n",
       "    </tr>\n",
       "    <tr>\n",
       "      <th>4</th>\n",
       "      <td>203000</td>\n",
       "      <td>Powiat głogowski</td>\n",
       "      <td>278506</td>\n",
       "      <td>0.292347</td>\n",
       "    </tr>\n",
       "  </tbody>\n",
       "</table>\n",
       "</div>"
      ],
      "text/plain": [
       "     Code                   Name   Price  Price Increase\n",
       "0       0                 POLAND  427466        0.372428\n",
       "1  200000           DOLNOŚLĄSKIE  419625        0.562925\n",
       "2  201000   Powiat bolesławiecki  287441        0.286694\n",
       "3  202000  Powiat dzierżoniowski  223186        0.938489\n",
       "4  203000       Powiat głogowski  278506        0.292347"
      ]
     },
     "execution_count": 145,
     "metadata": {},
     "output_type": "execute_result"
    }
   ],
   "source": [
    "new_df = data.iloc[:, [0, 1, 5]].rename(columns={\"total;total;2023;[PLN]\": \"Price\"})\n",
    "new_df[\"Price Increase\"] = (new_df[\"Price\"]-data.iloc[:,2])/data.iloc[:,2]\n",
    "new_df.head()"
   ]
  },
  {
   "cell_type": "code",
   "execution_count": 146,
   "id": "42191919",
   "metadata": {},
   "outputs": [],
   "source": [
    "mapa_pow = gpd.read_file('data/poland/powiaty/powiaty.shp')\n",
    "# ❗ Fix: reproject to EPSG:4326\n",
    "mapa_pow = mapa_pow.to_crs(epsg=4326)\n",
    "mapa_pow = mapa_pow[['JPT_KOD_JE', 'geometry']]"
   ]
  },
  {
   "cell_type": "code",
   "execution_count": 147,
   "id": "bc89f52f",
   "metadata": {},
   "outputs": [],
   "source": [
    "average_m2_gus = new_df.copy()\n",
    "\n",
    "average_m2_gus['Code (Filtered)'] = average_m2_gus.Code.apply(lambda x: '0'+str(x) if len(str(x)) < 7 else str(x))\n",
    "average_m2_gus['Code (Filtered)'] = average_m2_gus['Code (Filtered)'].apply(lambda s: s[:4])\n",
    "average_m2_gus = average_m2_gus[average_m2_gus['Code'] != '0']\n",
    "data_gus_pow = average_m2_gus[average_m2_gus['Code (Filtered)'].str[0:3] != '000']\n"
   ]
  },
  {
   "cell_type": "code",
   "execution_count": 148,
   "id": "1a34482f",
   "metadata": {},
   "outputs": [],
   "source": [
    "data_gus_2 = data_gus_pow[data_gus_pow['Code (Filtered)'].str[0:2] != '00']\n",
    "data_gus_2 = data_gus_2[data_gus_2['Code (Filtered)'].str[2:4] != '00']"
   ]
  },
  {
   "cell_type": "code",
   "execution_count": 149,
   "id": "09f68839",
   "metadata": {},
   "outputs": [],
   "source": [
    "data_gus_2['Price'] = pd.to_numeric(data_gus_2['Price'], errors='coerce')"
   ]
  },
  {
   "cell_type": "code",
   "execution_count": 150,
   "id": "9ef685e0",
   "metadata": {},
   "outputs": [],
   "source": [
    "mapa_pow['geometry'] = mapa_pow['geometry'].buffer(0)"
   ]
  },
  {
   "cell_type": "code",
   "execution_count": 151,
   "id": "18d5170a",
   "metadata": {},
   "outputs": [
    {
     "data": {
      "text/plain": [
       "<folium.features.Choropleth at 0x151ccc5e0>"
      ]
     },
     "execution_count": 151,
     "metadata": {},
     "output_type": "execute_result"
    }
   ],
   "source": [
    "mapa_pow.geometry = mapa_pow.geometry.simplify(0.001)\n",
    "#mapa_pow['geometry'] = mapa_pow['geometry'].simplify(tolerance=0.001, preserve_topology=True)\n",
    "pow_geoPath = mapa_pow.to_json()\n",
    "mapa = folium.Map([52, 19], zoom_start=6)\n",
    "\n",
    "chloro1 = folium.Choropleth(geo_data=pow_geoPath,  # GeoJSON\n",
    "                  data=data_gus_2,\n",
    "                  columns=['Code (Filtered)', 'Price'],\n",
    "                  key_on='feature.properties.JPT_KOD_JE',  # key to GeoJSON\n",
    "                  fill_color='YlOrRd',\n",
    "                  fill_opacity=0.7,\n",
    "                  line_opacity=0.2,\n",
    "                  legend_name=\"Median Transaction Price\")\n",
    "chloro1.add_to(mapa)"
   ]
  },
  {
   "cell_type": "code",
   "execution_count": 152,
   "id": "f6c3fe04",
   "metadata": {},
   "outputs": [
    {
     "data": {
      "text/plain": [
       "<folium.features.GeoJson at 0x4de3cc3a0>"
      ]
     },
     "execution_count": 152,
     "metadata": {},
     "output_type": "execute_result"
    }
   ],
   "source": [
    "m2 =mapa_pow.merge(data_gus_2[['Code (Filtered)', 'Price']], left_on='JPT_KOD_JE', right_on='Code (Filtered)', how='left')\n",
    "m2[\"Price(EUR)\"] = m2[\"Price\"] / 4.22\n",
    "folium.GeoJson(\n",
    "    data=m2.to_json(),\n",
    "    name='Price Tooltip',\n",
    "    tooltip=folium.features.GeoJsonTooltip(\n",
    "        fields=['Price', 'Price(EUR)'],\n",
    "        aliases=['Average Price (PLN):', 'Average Price (EUR):'],\n",
    "        localize=True\n",
    "    ),\n",
    "    style_function=lambda x: {\n",
    "        'fillColor': 'transparent',\n",
    "        'color': 'black',\n",
    "        'weight': 0.5,\n",
    "        'fillOpacity': 0.1,\n",
    "    }\n",
    ").add_to(mapa)"
   ]
  },
  {
   "cell_type": "code",
   "execution_count": 153,
   "id": "8d9159fd",
   "metadata": {},
   "outputs": [],
   "source": [
    "mapa.save(outfile=\"exports/map.html\")"
   ]
  },
  {
   "cell_type": "code",
   "execution_count": 154,
   "id": "979aa3e8",
   "metadata": {},
   "outputs": [],
   "source": [
    "import numpy as np\n",
    "data_gus_3 = data_gus_2.copy().replace([np.inf, -np.inf], np.nan)"
   ]
  },
  {
   "cell_type": "code",
   "execution_count": 155,
   "id": "45bfffa9",
   "metadata": {},
   "outputs": [
    {
     "data": {
      "text/plain": [
       "<folium.features.Choropleth at 0x4da30b130>"
      ]
     },
     "execution_count": 155,
     "metadata": {},
     "output_type": "execute_result"
    }
   ],
   "source": [
    "mapa2 = folium.Map([52, 19], zoom_start=6)\n",
    "\n",
    "folium.Choropleth(geo_data=pow_geoPath,  # GeoJSON\n",
    "                  data=data_gus_3,\n",
    "                  columns=['Code (Filtered)', 'Price Increase'],\n",
    "                  key_on='feature.properties.JPT_KOD_JE',  # key to GeoJSON\n",
    "                  fill_color='YlOrRd',\n",
    "                  fill_opacity=0.7,\n",
    "                  line_opacity=0.2,\n",
    "                  legend_name=\"Median Prince Increase\").add_to(mapa2)"
   ]
  },
  {
   "cell_type": "code",
   "execution_count": 156,
   "id": "11bfa3e7",
   "metadata": {},
   "outputs": [
    {
     "data": {
      "text/html": [
       "<div>\n",
       "<style scoped>\n",
       "    .dataframe tbody tr th:only-of-type {\n",
       "        vertical-align: middle;\n",
       "    }\n",
       "\n",
       "    .dataframe tbody tr th {\n",
       "        vertical-align: top;\n",
       "    }\n",
       "\n",
       "    .dataframe thead th {\n",
       "        text-align: right;\n",
       "    }\n",
       "</style>\n",
       "<table border=\"1\" class=\"dataframe\">\n",
       "  <thead>\n",
       "    <tr style=\"text-align: right;\">\n",
       "      <th></th>\n",
       "      <th>Code</th>\n",
       "      <th>Name</th>\n",
       "      <th>Price</th>\n",
       "      <th>Price Increase</th>\n",
       "      <th>Code (Filtered)</th>\n",
       "    </tr>\n",
       "  </thead>\n",
       "  <tbody>\n",
       "    <tr>\n",
       "      <th>2</th>\n",
       "      <td>201000</td>\n",
       "      <td>Powiat bolesławiecki</td>\n",
       "      <td>287441</td>\n",
       "      <td>0.286694</td>\n",
       "      <td>0201</td>\n",
       "    </tr>\n",
       "    <tr>\n",
       "      <th>3</th>\n",
       "      <td>202000</td>\n",
       "      <td>Powiat dzierżoniowski</td>\n",
       "      <td>223186</td>\n",
       "      <td>0.938489</td>\n",
       "      <td>0202</td>\n",
       "    </tr>\n",
       "    <tr>\n",
       "      <th>4</th>\n",
       "      <td>203000</td>\n",
       "      <td>Powiat głogowski</td>\n",
       "      <td>278506</td>\n",
       "      <td>0.292347</td>\n",
       "      <td>0203</td>\n",
       "    </tr>\n",
       "    <tr>\n",
       "      <th>5</th>\n",
       "      <td>204000</td>\n",
       "      <td>Powiat górowski</td>\n",
       "      <td>146458</td>\n",
       "      <td>0.408318</td>\n",
       "      <td>0204</td>\n",
       "    </tr>\n",
       "    <tr>\n",
       "      <th>6</th>\n",
       "      <td>205000</td>\n",
       "      <td>Powiat jaworski</td>\n",
       "      <td>281036</td>\n",
       "      <td>0.578304</td>\n",
       "      <td>0205</td>\n",
       "    </tr>\n",
       "    <tr>\n",
       "      <th>...</th>\n",
       "      <td>...</td>\n",
       "      <td>...</td>\n",
       "      <td>...</td>\n",
       "      <td>...</td>\n",
       "      <td>...</td>\n",
       "    </tr>\n",
       "    <tr>\n",
       "      <th>392</th>\n",
       "      <td>3217000</td>\n",
       "      <td>Powiat wałecki</td>\n",
       "      <td>233386</td>\n",
       "      <td>0.278561</td>\n",
       "      <td>3217</td>\n",
       "    </tr>\n",
       "    <tr>\n",
       "      <th>393</th>\n",
       "      <td>3218000</td>\n",
       "      <td>Powiat łobeski</td>\n",
       "      <td>200607</td>\n",
       "      <td>0.336186</td>\n",
       "      <td>3218</td>\n",
       "    </tr>\n",
       "    <tr>\n",
       "      <th>394</th>\n",
       "      <td>3261000</td>\n",
       "      <td>City with powiat status Koszalin</td>\n",
       "      <td>329357</td>\n",
       "      <td>NaN</td>\n",
       "      <td>3261</td>\n",
       "    </tr>\n",
       "    <tr>\n",
       "      <th>395</th>\n",
       "      <td>3262000</td>\n",
       "      <td>City with powiat status Szczecin</td>\n",
       "      <td>487867</td>\n",
       "      <td>0.223893</td>\n",
       "      <td>3262</td>\n",
       "    </tr>\n",
       "    <tr>\n",
       "      <th>396</th>\n",
       "      <td>3263000</td>\n",
       "      <td>City with powiat status Świnoujście</td>\n",
       "      <td>531930</td>\n",
       "      <td>0.311054</td>\n",
       "      <td>3263</td>\n",
       "    </tr>\n",
       "  </tbody>\n",
       "</table>\n",
       "<p>380 rows × 5 columns</p>\n",
       "</div>"
      ],
      "text/plain": [
       "        Code                                 Name   Price  Price Increase  \\\n",
       "2     201000                 Powiat bolesławiecki  287441        0.286694   \n",
       "3     202000                Powiat dzierżoniowski  223186        0.938489   \n",
       "4     203000                     Powiat głogowski  278506        0.292347   \n",
       "5     204000                      Powiat górowski  146458        0.408318   \n",
       "6     205000                      Powiat jaworski  281036        0.578304   \n",
       "..       ...                                  ...     ...             ...   \n",
       "392  3217000                       Powiat wałecki  233386        0.278561   \n",
       "393  3218000                       Powiat łobeski  200607        0.336186   \n",
       "394  3261000     City with powiat status Koszalin  329357             NaN   \n",
       "395  3262000     City with powiat status Szczecin  487867        0.223893   \n",
       "396  3263000  City with powiat status Świnoujście  531930        0.311054   \n",
       "\n",
       "    Code (Filtered)  \n",
       "2              0201  \n",
       "3              0202  \n",
       "4              0203  \n",
       "5              0204  \n",
       "6              0205  \n",
       "..              ...  \n",
       "392            3217  \n",
       "393            3218  \n",
       "394            3261  \n",
       "395            3262  \n",
       "396            3263  \n",
       "\n",
       "[380 rows x 5 columns]"
      ]
     },
     "execution_count": 156,
     "metadata": {},
     "output_type": "execute_result"
    }
   ],
   "source": [
    "data_gus_3"
   ]
  },
  {
   "cell_type": "code",
   "execution_count": 157,
   "id": "b5ff6c7c",
   "metadata": {},
   "outputs": [
    {
     "data": {
      "text/plain": [
       "<folium.features.GeoJson at 0x45de0ca00>"
      ]
     },
     "execution_count": 157,
     "metadata": {},
     "output_type": "execute_result"
    }
   ],
   "source": [
    "m3 =mapa_pow.merge(data_gus_3, left_on='JPT_KOD_JE', right_on='Code (Filtered)', how='left')\n",
    "#m3[\"Price(EUR)\"] = m3[\"Price Increase\"] / 4.22\n",
    "m3[\"Price Increase\"] = (m3[\"Price Increase\"]*100).round(2)\n",
    "folium.GeoJson(\n",
    "    data=m3.to_json(),\n",
    "    name='Price Tooltip',\n",
    "    tooltip=folium.features.GeoJsonTooltip(\n",
    "        fields=[\"Name\", 'Price Increase'],#, 'Price(EUR)'],\n",
    "        aliases=[\"Powiat Name\",'Median Price Increase (PLN):'],#, 'Median Price Increase (EUR):'],\n",
    "        localize=True\n",
    "    ),\n",
    "    style_function=lambda x: {\n",
    "        'fillColor': 'transparent',\n",
    "        'color': 'black',\n",
    "        'weight': 0.5,\n",
    "        'fillOpacity': 0.1,\n",
    "    }\n",
    ").add_to(mapa2)"
   ]
  },
  {
   "cell_type": "code",
   "execution_count": 158,
   "id": "84dfb552",
   "metadata": {},
   "outputs": [],
   "source": [
    "mapa2.save(outfile=\"exports/map2.html\")"
   ]
  },
  {
   "cell_type": "code",
   "execution_count": 159,
   "id": "82fbca18",
   "metadata": {},
   "outputs": [
    {
     "name": "stderr",
     "output_type": "stream",
     "text": [
      "/var/folders/g7/bnv7sj75399d5qdncpcwkjzh0000gn/T/ipykernel_58627/2784223609.py:1: DtypeWarning: Columns (8,10,12,14,16,17,18,20,22,24,35,36) have mixed types. Specify dtype option on import or set low_memory=False.\n",
      "  df_fr = pd.read_csv(\"data/france/full.csv\", sep=\",\", encoding=\"utf-8\")\n"
     ]
    }
   ],
   "source": [
    "df_fr = pd.read_csv(\"data/france/full.csv\", sep=\",\", encoding=\"utf-8\")"
   ]
  },
  {
   "cell_type": "code",
   "execution_count": 160,
   "id": "a627234e",
   "metadata": {},
   "outputs": [
    {
     "data": {
      "text/html": [
       "<div>\n",
       "<style scoped>\n",
       "    .dataframe tbody tr th:only-of-type {\n",
       "        vertical-align: middle;\n",
       "    }\n",
       "\n",
       "    .dataframe tbody tr th {\n",
       "        vertical-align: top;\n",
       "    }\n",
       "\n",
       "    .dataframe thead th {\n",
       "        text-align: right;\n",
       "    }\n",
       "</style>\n",
       "<table border=\"1\" class=\"dataframe\">\n",
       "  <thead>\n",
       "    <tr style=\"text-align: right;\">\n",
       "      <th></th>\n",
       "      <th>id_mutation</th>\n",
       "      <th>date_mutation</th>\n",
       "      <th>numero_disposition</th>\n",
       "      <th>nature_mutation</th>\n",
       "      <th>valeur_fonciere</th>\n",
       "      <th>adresse_numero</th>\n",
       "      <th>adresse_suffixe</th>\n",
       "      <th>adresse_nom_voie</th>\n",
       "      <th>adresse_code_voie</th>\n",
       "      <th>code_postal</th>\n",
       "      <th>...</th>\n",
       "      <th>type_local</th>\n",
       "      <th>surface_reelle_bati</th>\n",
       "      <th>nombre_pieces_principales</th>\n",
       "      <th>code_nature_culture</th>\n",
       "      <th>nature_culture</th>\n",
       "      <th>code_nature_culture_speciale</th>\n",
       "      <th>nature_culture_speciale</th>\n",
       "      <th>surface_terrain</th>\n",
       "      <th>longitude</th>\n",
       "      <th>latitude</th>\n",
       "    </tr>\n",
       "  </thead>\n",
       "  <tbody>\n",
       "    <tr>\n",
       "      <th>0</th>\n",
       "      <td>2024-1</td>\n",
       "      <td>2024-01-02</td>\n",
       "      <td>1</td>\n",
       "      <td>Vente</td>\n",
       "      <td>346.5</td>\n",
       "      <td>NaN</td>\n",
       "      <td>NaN</td>\n",
       "      <td>LE DELIVRE</td>\n",
       "      <td>B020</td>\n",
       "      <td>1230.0</td>\n",
       "      <td>...</td>\n",
       "      <td>NaN</td>\n",
       "      <td>NaN</td>\n",
       "      <td>NaN</td>\n",
       "      <td>P</td>\n",
       "      <td>prés</td>\n",
       "      <td>NaN</td>\n",
       "      <td>NaN</td>\n",
       "      <td>99.0</td>\n",
       "      <td>5.530952</td>\n",
       "      <td>45.952439</td>\n",
       "    </tr>\n",
       "    <tr>\n",
       "      <th>1</th>\n",
       "      <td>2024-2</td>\n",
       "      <td>2024-01-03</td>\n",
       "      <td>2</td>\n",
       "      <td>Vente</td>\n",
       "      <td>10000.0</td>\n",
       "      <td>NaN</td>\n",
       "      <td>NaN</td>\n",
       "      <td>CHEVRY DESSOUS</td>\n",
       "      <td>B007</td>\n",
       "      <td>1170.0</td>\n",
       "      <td>...</td>\n",
       "      <td>NaN</td>\n",
       "      <td>NaN</td>\n",
       "      <td>NaN</td>\n",
       "      <td>S</td>\n",
       "      <td>sols</td>\n",
       "      <td>NaN</td>\n",
       "      <td>NaN</td>\n",
       "      <td>115.0</td>\n",
       "      <td>6.043339</td>\n",
       "      <td>46.282256</td>\n",
       "    </tr>\n",
       "    <tr>\n",
       "      <th>2</th>\n",
       "      <td>2024-3</td>\n",
       "      <td>2024-01-08</td>\n",
       "      <td>1</td>\n",
       "      <td>Vente</td>\n",
       "      <td>249000.0</td>\n",
       "      <td>NaN</td>\n",
       "      <td>NaN</td>\n",
       "      <td>PIN HAMEAU</td>\n",
       "      <td>B086</td>\n",
       "      <td>1290.0</td>\n",
       "      <td>...</td>\n",
       "      <td>NaN</td>\n",
       "      <td>NaN</td>\n",
       "      <td>NaN</td>\n",
       "      <td>S</td>\n",
       "      <td>sols</td>\n",
       "      <td>NaN</td>\n",
       "      <td>NaN</td>\n",
       "      <td>497.0</td>\n",
       "      <td>4.911143</td>\n",
       "      <td>46.247235</td>\n",
       "    </tr>\n",
       "    <tr>\n",
       "      <th>3</th>\n",
       "      <td>2024-4</td>\n",
       "      <td>2024-01-03</td>\n",
       "      <td>1</td>\n",
       "      <td>Vente</td>\n",
       "      <td>329500.0</td>\n",
       "      <td>9001.0</td>\n",
       "      <td>NaN</td>\n",
       "      <td>PL DU JURA</td>\n",
       "      <td>0500</td>\n",
       "      <td>1170.0</td>\n",
       "      <td>...</td>\n",
       "      <td>Dépendance</td>\n",
       "      <td>NaN</td>\n",
       "      <td>0.0</td>\n",
       "      <td>NaN</td>\n",
       "      <td>NaN</td>\n",
       "      <td>NaN</td>\n",
       "      <td>NaN</td>\n",
       "      <td>NaN</td>\n",
       "      <td>6.058695</td>\n",
       "      <td>46.332212</td>\n",
       "    </tr>\n",
       "    <tr>\n",
       "      <th>4</th>\n",
       "      <td>2024-4</td>\n",
       "      <td>2024-01-03</td>\n",
       "      <td>1</td>\n",
       "      <td>Vente</td>\n",
       "      <td>329500.0</td>\n",
       "      <td>29.0</td>\n",
       "      <td>NaN</td>\n",
       "      <td>PL DU JURA</td>\n",
       "      <td>0500</td>\n",
       "      <td>1170.0</td>\n",
       "      <td>...</td>\n",
       "      <td>Dépendance</td>\n",
       "      <td>NaN</td>\n",
       "      <td>0.0</td>\n",
       "      <td>NaN</td>\n",
       "      <td>NaN</td>\n",
       "      <td>NaN</td>\n",
       "      <td>NaN</td>\n",
       "      <td>NaN</td>\n",
       "      <td>6.058695</td>\n",
       "      <td>46.332212</td>\n",
       "    </tr>\n",
       "  </tbody>\n",
       "</table>\n",
       "<p>5 rows × 40 columns</p>\n",
       "</div>"
      ],
      "text/plain": [
       "  id_mutation date_mutation  numero_disposition nature_mutation  \\\n",
       "0      2024-1    2024-01-02                   1           Vente   \n",
       "1      2024-2    2024-01-03                   2           Vente   \n",
       "2      2024-3    2024-01-08                   1           Vente   \n",
       "3      2024-4    2024-01-03                   1           Vente   \n",
       "4      2024-4    2024-01-03                   1           Vente   \n",
       "\n",
       "   valeur_fonciere  adresse_numero adresse_suffixe adresse_nom_voie  \\\n",
       "0            346.5             NaN             NaN       LE DELIVRE   \n",
       "1          10000.0             NaN             NaN   CHEVRY DESSOUS   \n",
       "2         249000.0             NaN             NaN       PIN HAMEAU   \n",
       "3         329500.0          9001.0             NaN       PL DU JURA   \n",
       "4         329500.0            29.0             NaN       PL DU JURA   \n",
       "\n",
       "  adresse_code_voie  code_postal  ...  type_local surface_reelle_bati  \\\n",
       "0              B020       1230.0  ...         NaN                 NaN   \n",
       "1              B007       1170.0  ...         NaN                 NaN   \n",
       "2              B086       1290.0  ...         NaN                 NaN   \n",
       "3              0500       1170.0  ...  Dépendance                 NaN   \n",
       "4              0500       1170.0  ...  Dépendance                 NaN   \n",
       "\n",
       "  nombre_pieces_principales  code_nature_culture nature_culture  \\\n",
       "0                       NaN                    P           prés   \n",
       "1                       NaN                    S           sols   \n",
       "2                       NaN                    S           sols   \n",
       "3                       0.0                  NaN            NaN   \n",
       "4                       0.0                  NaN            NaN   \n",
       "\n",
       "  code_nature_culture_speciale nature_culture_speciale surface_terrain  \\\n",
       "0                          NaN                     NaN            99.0   \n",
       "1                          NaN                     NaN           115.0   \n",
       "2                          NaN                     NaN           497.0   \n",
       "3                          NaN                     NaN             NaN   \n",
       "4                          NaN                     NaN             NaN   \n",
       "\n",
       "  longitude   latitude  \n",
       "0  5.530952  45.952439  \n",
       "1  6.043339  46.282256  \n",
       "2  4.911143  46.247235  \n",
       "3  6.058695  46.332212  \n",
       "4  6.058695  46.332212  \n",
       "\n",
       "[5 rows x 40 columns]"
      ]
     },
     "execution_count": 160,
     "metadata": {},
     "output_type": "execute_result"
    }
   ],
   "source": [
    "df_fr.head()"
   ]
  },
  {
   "cell_type": "code",
   "execution_count": 161,
   "id": "1b85bf86",
   "metadata": {},
   "outputs": [
    {
     "data": {
      "text/plain": [
       "Index(['id_mutation', 'date_mutation', 'numero_disposition', 'nature_mutation',\n",
       "       'valeur_fonciere', 'adresse_numero', 'adresse_suffixe',\n",
       "       'adresse_nom_voie', 'adresse_code_voie', 'code_postal', 'code_commune',\n",
       "       'nom_commune', 'code_departement', 'ancien_code_commune',\n",
       "       'ancien_nom_commune', 'id_parcelle', 'ancien_id_parcelle',\n",
       "       'numero_volume', 'lot1_numero', 'lot1_surface_carrez', 'lot2_numero',\n",
       "       'lot2_surface_carrez', 'lot3_numero', 'lot3_surface_carrez',\n",
       "       'lot4_numero', 'lot4_surface_carrez', 'lot5_numero',\n",
       "       'lot5_surface_carrez', 'nombre_lots', 'code_type_local', 'type_local',\n",
       "       'surface_reelle_bati', 'nombre_pieces_principales',\n",
       "       'code_nature_culture', 'nature_culture', 'code_nature_culture_speciale',\n",
       "       'nature_culture_speciale', 'surface_terrain', 'longitude', 'latitude'],\n",
       "      dtype='object')"
      ]
     },
     "execution_count": 161,
     "metadata": {},
     "output_type": "execute_result"
    }
   ],
   "source": [
    "df_fr.columns"
   ]
  },
  {
   "cell_type": "code",
   "execution_count": 162,
   "id": "acd9541d",
   "metadata": {},
   "outputs": [
    {
     "data": {
      "text/plain": [
       "3458643"
      ]
     },
     "execution_count": 162,
     "metadata": {},
     "output_type": "execute_result"
    }
   ],
   "source": [
    "len(df_fr)"
   ]
  },
  {
   "cell_type": "code",
   "execution_count": 163,
   "id": "00cde097",
   "metadata": {},
   "outputs": [],
   "source": [
    "df_fr.code_commune = df_fr.code_commune.apply(lambda x: str(x).zfill(5))"
   ]
  },
  {
   "cell_type": "code",
   "execution_count": 164,
   "id": "bb219f60",
   "metadata": {},
   "outputs": [],
   "source": [
    "# Average by code_commune\n",
    "df_fr = df_fr.groupby(['code_commune']).agg({'valeur_fonciere': 'median'}).reset_index()"
   ]
  },
  {
   "cell_type": "code",
   "execution_count": 165,
   "id": "764825d0",
   "metadata": {},
   "outputs": [
    {
     "data": {
      "text/html": [
       "<div>\n",
       "<style scoped>\n",
       "    .dataframe tbody tr th:only-of-type {\n",
       "        vertical-align: middle;\n",
       "    }\n",
       "\n",
       "    .dataframe tbody tr th {\n",
       "        vertical-align: top;\n",
       "    }\n",
       "\n",
       "    .dataframe thead th {\n",
       "        text-align: right;\n",
       "    }\n",
       "</style>\n",
       "<table border=\"1\" class=\"dataframe\">\n",
       "  <thead>\n",
       "    <tr style=\"text-align: right;\">\n",
       "      <th></th>\n",
       "      <th>code_commune</th>\n",
       "      <th>valeur_fonciere</th>\n",
       "    </tr>\n",
       "  </thead>\n",
       "  <tbody>\n",
       "    <tr>\n",
       "      <th>0</th>\n",
       "      <td>01001</td>\n",
       "      <td>350000.0</td>\n",
       "    </tr>\n",
       "    <tr>\n",
       "      <th>1</th>\n",
       "      <td>01002</td>\n",
       "      <td>25000.0</td>\n",
       "    </tr>\n",
       "    <tr>\n",
       "      <th>2</th>\n",
       "      <td>01004</td>\n",
       "      <td>180000.0</td>\n",
       "    </tr>\n",
       "    <tr>\n",
       "      <th>3</th>\n",
       "      <td>01005</td>\n",
       "      <td>243291.0</td>\n",
       "    </tr>\n",
       "    <tr>\n",
       "      <th>4</th>\n",
       "      <td>01006</td>\n",
       "      <td>10000.0</td>\n",
       "    </tr>\n",
       "  </tbody>\n",
       "</table>\n",
       "</div>"
      ],
      "text/plain": [
       "  code_commune  valeur_fonciere\n",
       "0        01001         350000.0\n",
       "1        01002          25000.0\n",
       "2        01004         180000.0\n",
       "3        01005         243291.0\n",
       "4        01006          10000.0"
      ]
     },
     "execution_count": 165,
     "metadata": {},
     "output_type": "execute_result"
    }
   ],
   "source": [
    "df_fr.head()"
   ]
  },
  {
   "cell_type": "code",
   "execution_count": 166,
   "id": "2803ec57",
   "metadata": {},
   "outputs": [],
   "source": [
    "shp_fr = gpd.read_file('data/france/commune-frmetdrom/COMMUNE_FRMETDROM.shp')\n",
    "# ❗ Fix: reproject to EPSG:4326\n",
    "shp_fr = shp_fr.to_crs(epsg=4326)"
   ]
  },
  {
   "cell_type": "code",
   "execution_count": 167,
   "id": "33fb11a3",
   "metadata": {},
   "outputs": [
    {
     "data": {
      "text/plain": [
       "Index(['ID', 'NOM', 'NOM_M', 'INSEE_COM', 'STATUT', 'POPULATION', 'INSEE_CAN',\n",
       "       'INSEE_ARR', 'INSEE_DEP', 'INSEE_REG', 'SIREN_EPCI', 'TYPE',\n",
       "       'geometry'],\n",
       "      dtype='object')"
      ]
     },
     "execution_count": 167,
     "metadata": {},
     "output_type": "execute_result"
    }
   ],
   "source": [
    "shp_fr.columns"
   ]
  },
  {
   "cell_type": "code",
   "execution_count": 168,
   "id": "b8141ebf",
   "metadata": {},
   "outputs": [
    {
     "data": {
      "text/html": [
       "<div>\n",
       "<style scoped>\n",
       "    .dataframe tbody tr th:only-of-type {\n",
       "        vertical-align: middle;\n",
       "    }\n",
       "\n",
       "    .dataframe tbody tr th {\n",
       "        vertical-align: top;\n",
       "    }\n",
       "\n",
       "    .dataframe thead th {\n",
       "        text-align: right;\n",
       "    }\n",
       "</style>\n",
       "<table border=\"1\" class=\"dataframe\">\n",
       "  <thead>\n",
       "    <tr style=\"text-align: right;\">\n",
       "      <th></th>\n",
       "      <th>ID</th>\n",
       "      <th>NOM</th>\n",
       "      <th>NOM_M</th>\n",
       "      <th>INSEE_COM</th>\n",
       "      <th>STATUT</th>\n",
       "      <th>POPULATION</th>\n",
       "      <th>INSEE_CAN</th>\n",
       "      <th>INSEE_ARR</th>\n",
       "      <th>INSEE_DEP</th>\n",
       "      <th>INSEE_REG</th>\n",
       "      <th>SIREN_EPCI</th>\n",
       "      <th>TYPE</th>\n",
       "      <th>geometry</th>\n",
       "    </tr>\n",
       "  </thead>\n",
       "  <tbody>\n",
       "    <tr>\n",
       "      <th>0</th>\n",
       "      <td>COMMUNE_0000000009747703</td>\n",
       "      <td>Antully</td>\n",
       "      <td>ANTULLY</td>\n",
       "      <td>71010</td>\n",
       "      <td>Commune simple</td>\n",
       "      <td>869.0</td>\n",
       "      <td>02</td>\n",
       "      <td>1</td>\n",
       "      <td>71</td>\n",
       "      <td>27</td>\n",
       "      <td>200070530</td>\n",
       "      <td>COM</td>\n",
       "      <td>POLYGON ((4.42739 46.92275, 4.42745 46.92262, ...</td>\n",
       "    </tr>\n",
       "    <tr>\n",
       "      <th>1</th>\n",
       "      <td>COMMUNE_0000000009734075</td>\n",
       "      <td>Le Tremblay-Omonville</td>\n",
       "      <td>LE TREMBLAY-OMONVILLE</td>\n",
       "      <td>27658</td>\n",
       "      <td>Commune simple</td>\n",
       "      <td>369.0</td>\n",
       "      <td>15</td>\n",
       "      <td>2</td>\n",
       "      <td>27</td>\n",
       "      <td>28</td>\n",
       "      <td>242700607</td>\n",
       "      <td>COM</td>\n",
       "      <td>POLYGON ((0.90536 49.10568, 0.90375 49.10801, ...</td>\n",
       "    </tr>\n",
       "    <tr>\n",
       "      <th>2</th>\n",
       "      <td>COMMUNE_0000000009730209</td>\n",
       "      <td>Vaux-lès-Mouzon</td>\n",
       "      <td>VAUX-LES-MOUZON</td>\n",
       "      <td>08466</td>\n",
       "      <td>Commune simple</td>\n",
       "      <td>69.0</td>\n",
       "      <td>03</td>\n",
       "      <td>3</td>\n",
       "      <td>08</td>\n",
       "      <td>44</td>\n",
       "      <td>240800847</td>\n",
       "      <td>COM</td>\n",
       "      <td>POLYGON ((5.1528 49.57652, 5.15277 49.57688, 5...</td>\n",
       "    </tr>\n",
       "    <tr>\n",
       "      <th>3</th>\n",
       "      <td>COMMUNE_0000000009742448</td>\n",
       "      <td>Anchenoncourt-et-Chazel</td>\n",
       "      <td>ANCHENONCOURT-ET-CHAZEL</td>\n",
       "      <td>70017</td>\n",
       "      <td>Commune simple</td>\n",
       "      <td>240.0</td>\n",
       "      <td>11</td>\n",
       "      <td>2</td>\n",
       "      <td>70</td>\n",
       "      <td>27</td>\n",
       "      <td>200041879</td>\n",
       "      <td>COM</td>\n",
       "      <td>POLYGON ((6.14568 47.84562, 6.14458 47.84435, ...</td>\n",
       "    </tr>\n",
       "    <tr>\n",
       "      <th>4</th>\n",
       "      <td>COMMUNE_0000002324290054</td>\n",
       "      <td>Culoz-Béon</td>\n",
       "      <td>CULOZ-BEON</td>\n",
       "      <td>01138</td>\n",
       "      <td>Commune simple</td>\n",
       "      <td>3426.0</td>\n",
       "      <td>10</td>\n",
       "      <td>1</td>\n",
       "      <td>01</td>\n",
       "      <td>84</td>\n",
       "      <td>200040350</td>\n",
       "      <td>COM</td>\n",
       "      <td>POLYGON ((5.80753 45.86064, 5.80739 45.86051, ...</td>\n",
       "    </tr>\n",
       "  </tbody>\n",
       "</table>\n",
       "</div>"
      ],
      "text/plain": [
       "                         ID                      NOM                    NOM_M  \\\n",
       "0  COMMUNE_0000000009747703                  Antully                  ANTULLY   \n",
       "1  COMMUNE_0000000009734075    Le Tremblay-Omonville    LE TREMBLAY-OMONVILLE   \n",
       "2  COMMUNE_0000000009730209          Vaux-lès-Mouzon          VAUX-LES-MOUZON   \n",
       "3  COMMUNE_0000000009742448  Anchenoncourt-et-Chazel  ANCHENONCOURT-ET-CHAZEL   \n",
       "4  COMMUNE_0000002324290054               Culoz-Béon               CULOZ-BEON   \n",
       "\n",
       "  INSEE_COM          STATUT  POPULATION INSEE_CAN INSEE_ARR INSEE_DEP  \\\n",
       "0     71010  Commune simple       869.0        02         1        71   \n",
       "1     27658  Commune simple       369.0        15         2        27   \n",
       "2     08466  Commune simple        69.0        03         3        08   \n",
       "3     70017  Commune simple       240.0        11         2        70   \n",
       "4     01138  Commune simple      3426.0        10         1        01   \n",
       "\n",
       "  INSEE_REG SIREN_EPCI TYPE                                           geometry  \n",
       "0        27  200070530  COM  POLYGON ((4.42739 46.92275, 4.42745 46.92262, ...  \n",
       "1        28  242700607  COM  POLYGON ((0.90536 49.10568, 0.90375 49.10801, ...  \n",
       "2        44  240800847  COM  POLYGON ((5.1528 49.57652, 5.15277 49.57688, 5...  \n",
       "3        27  200041879  COM  POLYGON ((6.14568 47.84562, 6.14458 47.84435, ...  \n",
       "4        84  200040350  COM  POLYGON ((5.80753 45.86064, 5.80739 45.86051, ...  "
      ]
     },
     "execution_count": 168,
     "metadata": {},
     "output_type": "execute_result"
    }
   ],
   "source": [
    "shp_fr.head()"
   ]
  },
  {
   "cell_type": "code",
   "execution_count": 169,
   "id": "b28caf15",
   "metadata": {},
   "outputs": [
    {
     "data": {
      "text/html": [
       "<div>\n",
       "<style scoped>\n",
       "    .dataframe tbody tr th:only-of-type {\n",
       "        vertical-align: middle;\n",
       "    }\n",
       "\n",
       "    .dataframe tbody tr th {\n",
       "        vertical-align: top;\n",
       "    }\n",
       "\n",
       "    .dataframe thead th {\n",
       "        text-align: right;\n",
       "    }\n",
       "</style>\n",
       "<table border=\"1\" class=\"dataframe\">\n",
       "  <thead>\n",
       "    <tr style=\"text-align: right;\">\n",
       "      <th></th>\n",
       "      <th>INSEE_COM</th>\n",
       "      <th>geometry</th>\n",
       "    </tr>\n",
       "  </thead>\n",
       "  <tbody>\n",
       "    <tr>\n",
       "      <th>0</th>\n",
       "      <td>71010</td>\n",
       "      <td>POLYGON ((4.42739 46.92275, 4.42745 46.92262, ...</td>\n",
       "    </tr>\n",
       "    <tr>\n",
       "      <th>1</th>\n",
       "      <td>27658</td>\n",
       "      <td>POLYGON ((0.90536 49.10568, 0.90375 49.10801, ...</td>\n",
       "    </tr>\n",
       "    <tr>\n",
       "      <th>2</th>\n",
       "      <td>08466</td>\n",
       "      <td>POLYGON ((5.1528 49.57652, 5.15277 49.57688, 5...</td>\n",
       "    </tr>\n",
       "    <tr>\n",
       "      <th>3</th>\n",
       "      <td>70017</td>\n",
       "      <td>POLYGON ((6.14568 47.84562, 6.14458 47.84435, ...</td>\n",
       "    </tr>\n",
       "    <tr>\n",
       "      <th>4</th>\n",
       "      <td>01138</td>\n",
       "      <td>POLYGON ((5.80753 45.86064, 5.80739 45.86051, ...</td>\n",
       "    </tr>\n",
       "  </tbody>\n",
       "</table>\n",
       "</div>"
      ],
      "text/plain": [
       "  INSEE_COM                                           geometry\n",
       "0     71010  POLYGON ((4.42739 46.92275, 4.42745 46.92262, ...\n",
       "1     27658  POLYGON ((0.90536 49.10568, 0.90375 49.10801, ...\n",
       "2     08466  POLYGON ((5.1528 49.57652, 5.15277 49.57688, 5...\n",
       "3     70017  POLYGON ((6.14568 47.84562, 6.14458 47.84435, ...\n",
       "4     01138  POLYGON ((5.80753 45.86064, 5.80739 45.86051, ..."
      ]
     },
     "execution_count": 169,
     "metadata": {},
     "output_type": "execute_result"
    }
   ],
   "source": [
    "shp_fr = shp_fr[['INSEE_COM', 'geometry']]\n",
    "shp_fr['INSEE_COM_numeric'] = pd.to_numeric(shp_fr['INSEE_COM'], errors='coerce')\n",
    "\n",
    "# Drop rows where conversion failed (i.e., not numeric)\n",
    "shp_fr = shp_fr[shp_fr['INSEE_COM_numeric'].notna()]\n",
    "\n",
    "# Convert to integer type and drop helper column\n",
    "shp_fr['INSEE_COM'] = shp_fr['INSEE_COM_numeric'].apply(lambda x: str(int(x)).zfill(5))\n",
    "shp_fr = shp_fr.drop(columns='INSEE_COM_numeric')\n",
    "shp_fr.head()"
   ]
  },
  {
   "cell_type": "code",
   "execution_count": 170,
   "id": "03ea96e3",
   "metadata": {},
   "outputs": [],
   "source": [
    "shp_fr['geometry'] = shp_fr['geometry'].buffer(0)"
   ]
  },
  {
   "cell_type": "code",
   "execution_count": 171,
   "id": "105d909b",
   "metadata": {},
   "outputs": [],
   "source": [
    "\n",
    "\n",
    "sensible_max_for_detailed_legend = 1000000\n",
    "my_bins = [0, 50000, 100000, 150000, 250000, 500000, 1000000]#, df_fr['valeur_fonciere'].max()]\n",
    "df_fr['valeur_fonciere_capped'] = df_fr['valeur_fonciere'].clip(upper=sensible_max_for_detailed_legend)\n",
    "# my_bins = list(df_fr['valeur_fonciere'][df_fr['valeur_fonciere'] <= sensible_max_for_detailed_legend].quantile([0, 0.2, 0.4, 0.6, 0.8]))\n",
    "# my_bins.append(sensible_max_for_detailed_legend) # Add the threshold for \"high\"\n",
    "# my_bins.append(df_fr['valeur_fonciere'].max()) # Ensure all values are covered\n",
    "\n",
    "# # Remove duplicates and sort, as quantile might produce them if data is sparse\n",
    "# my_bins = sorted(list(set(my_bins)))\n",
    "\n",
    "# # Ensure the lowest bin starts at or below your data's minimum if necessary, or 0.\n",
    "# if my_bins[0] > 0 and df_fr['valeur_fonciere'].min() < my_bins[0]:\n",
    "#     my_bins.insert(0, df_fr['valeur_fonciere'].min() if df_fr['valeur_fonciere'].min() < 0 else 0) # or just 0\n",
    "#     my_bins = sorted(list(set(my_bins))) # re-sort and unique\n"
   ]
  },
  {
   "cell_type": "code",
   "execution_count": 172,
   "id": "f1c0f9ff",
   "metadata": {},
   "outputs": [
    {
     "data": {
      "text/plain": [
       "<folium.features.Choropleth at 0x57387be80>"
      ]
     },
     "execution_count": 172,
     "metadata": {},
     "output_type": "execute_result"
    }
   ],
   "source": [
    "shp_fr.geometry = shp_fr.geometry.simplify(0.005)\n",
    "pow_geoPath = shp_fr.to_json()\n",
    "map3 = folium.Map([52, 19], zoom_start=6)\n",
    "\n",
    "\n",
    "folium.Choropleth(geo_data=pow_geoPath,  # GeoJSON\n",
    "                  data=df_fr,\n",
    "                  columns=['code_commune', 'valeur_fonciere_capped'],\n",
    "                  key_on='feature.properties.INSEE_COM',  # key to GeoJSON\n",
    "                  fill_color='YlOrRd',\n",
    "                  fill_opacity=0.7,\n",
    "                  line_opacity=0.2,\n",
    "                  legend_name=\"Mean Transaction Price\",\n",
    "                    bins=my_bins,  # This is the crucial part!\n",
    "                    highlight=True,\n",
    "                    smooth_factor=0 # If you simplified geometries, this can help render faster\n",
    "                    ).add_to(map3)"
   ]
  },
  {
   "cell_type": "code",
   "execution_count": 173,
   "id": "2cbdd093",
   "metadata": {},
   "outputs": [
    {
     "data": {
      "text/plain": [
       "<folium.features.Choropleth at 0x151ccc5e0>"
      ]
     },
     "execution_count": 173,
     "metadata": {},
     "output_type": "execute_result"
    }
   ],
   "source": [
    "chloro1.add_to(map3)"
   ]
  },
  {
   "cell_type": "code",
   "execution_count": 174,
   "id": "0779af7f",
   "metadata": {},
   "outputs": [
    {
     "data": {
      "text/plain": [
       "<folium.map.LayerControl at 0x4dd28ef10>"
      ]
     },
     "execution_count": 174,
     "metadata": {},
     "output_type": "execute_result"
    }
   ],
   "source": [
    "folium.LayerControl().add_to(map3)"
   ]
  },
  {
   "cell_type": "code",
   "execution_count": 175,
   "id": "76887f53",
   "metadata": {},
   "outputs": [],
   "source": [
    "map3.save(outfile=\"exports/map_fr.html\")"
   ]
  },
  {
   "cell_type": "code",
   "execution_count": null,
   "id": "99d42400",
   "metadata": {},
   "outputs": [],
   "source": []
  },
  {
   "cell_type": "code",
   "execution_count": 217,
   "id": "efb5eda7",
   "metadata": {},
   "outputs": [
    {
     "name": "stderr",
     "output_type": "stream",
     "text": [
      "/var/folders/g7/bnv7sj75399d5qdncpcwkjzh0000gn/T/ipykernel_58627/1373090204.py:8: DtypeWarning: Columns (8,10,12,14,16,17,18,20,22,24,35,36) have mixed types. Specify dtype option on import or set low_memory=False.\n",
      "  df_fr_dep = pd.read_csv(\"data/france/full.csv\", sep=\",\", encoding=\"utf-8\")\n"
     ]
    }
   ],
   "source": [
    "shp_fr_dep = gpd.read_file('data/france/contour-des-departements.geojson')\n",
    "shp_fr_dep = shp_fr_dep.to_crs(epsg=4326)\n",
    "shp_fr_dep['code_numeric'] = pd.to_numeric(shp_fr_dep['code'], errors='coerce')\n",
    "shp_fr_dep = shp_fr_dep[shp_fr_dep['code_numeric'].notna()]\n",
    "shp_fr_dep['code'] = shp_fr_dep['code'].apply(lambda x: str(x).zfill(3))\n",
    "shp_fr_dep = shp_fr_dep.drop(columns='code_numeric')\n",
    "\n",
    "df_fr_dep = pd.read_csv(\"data/france/full.csv\", sep=\",\", encoding=\"utf-8\")\n",
    "df_fr_dep['code_postal'] = df_fr_dep['code_postal'].apply(lambda x: str(x).zfill(5))\n",
    "df_fr_dep['code_dep'] = df_fr_dep['code_postal'].apply(lambda x: str(x)[:2] if str(x)[:2] not in [\"97\", \"98\"] else str(x)[:3])\n",
    "df_fr_dep['code_dep'] = df_fr_dep['code_dep'].apply(lambda x: str(x).zfill(3))\n",
    "df_fr_dep.dropna(inplace=True, subset=['valeur_fonciere'])\n",
    "df_fr_dep = df_fr_dep.groupby(['code_dep']).agg({'valeur_fonciere': 'median'}).reset_index()"
   ]
  },
  {
   "cell_type": "code",
   "execution_count": 218,
   "id": "0a8a049a",
   "metadata": {},
   "outputs": [
    {
     "data": {
      "text/plain": [
       "(Index(['code_dep', 'valeur_fonciere'], dtype='object'),\n",
       " Index(['Code', 'Name', 'Price', 'Price Increase', 'Code (Filtered)'], dtype='object'))"
      ]
     },
     "execution_count": 218,
     "metadata": {},
     "output_type": "execute_result"
    }
   ],
   "source": [
    "df_fr_dep.columns, data_gus_2.columns"
   ]
  },
  {
   "cell_type": "code",
   "execution_count": 219,
   "id": "7a8dff58",
   "metadata": {},
   "outputs": [
    {
     "data": {
      "text/plain": [
       "(Index(['code', 'nom', 'geometry'], dtype='object'),\n",
       " Index(['JPT_KOD_JE', 'geometry'], dtype='object'))"
      ]
     },
     "execution_count": 219,
     "metadata": {},
     "output_type": "execute_result"
    }
   ],
   "source": [
    "shp_fr_dep.columns, mapa_pow.columns"
   ]
  },
  {
   "cell_type": "code",
   "execution_count": 249,
   "id": "b1ba4f13",
   "metadata": {},
   "outputs": [],
   "source": [
    "# Rename columns to match\n",
    "## Codes\n",
    "df_fr_dep.rename(columns={'code_dep': 'eurocode'}, inplace=True)\n",
    "shp_fr_dep.rename(columns={'code': 'eurocode'}, inplace=True)\n",
    "df_pl = data_gus_2.rename(columns={'Code (Filtered)': 'eurocode'})\n",
    "shp_pl = mapa_pow.rename(columns={'JPT_KOD_JE': 'eurocode'})\n",
    "## Prices\n",
    "df_fr_dep.rename(columns={'valeur_fonciere': 'price'}, inplace=True)\n",
    "df_pl.rename(columns={'Price': 'price'}, inplace=True)\n",
    "\n",
    "# Select identical columns for merging\n",
    "shp_fr_dep = shp_fr_dep[['eurocode', 'geometry']]\n",
    "shp_pl = shp_pl[['eurocode', 'geometry']]\n",
    "df_fr_dep = df_fr_dep[['eurocode', 'price']]\n",
    "df_pl = df_pl[['eurocode', 'price']]\n",
    "\n",
    "# Convert to currency\n",
    "df_pl['price'] = df_pl['price'].apply(lambda x: x / 4.22)\n",
    "\n",
    "# Standardize to eurocode format : code starts with two country letter code\n",
    "df_fr_dep['eurocode'] = 'FR' + df_fr_dep['eurocode']\n",
    "shp_fr_dep['eurocode'] = 'FR' + shp_fr_dep['eurocode']\n",
    "df_pl['eurocode'] = 'PL' + df_pl['eurocode']\n",
    "shp_pl['eurocode'] = 'PL' + shp_pl['eurocode']\n",
    "\n",
    "\n",
    "# Merge the dataframes\n",
    "eurodf = pd.merge(df_fr_dep, df_pl, on=['eurocode', 'price'], how='outer')\n",
    "euroshp = pd.merge(shp_fr_dep, shp_pl, on=['eurocode','geometry'], how='outer')"
   ]
  },
  {
   "cell_type": "code",
   "execution_count": 250,
   "id": "49ec0258",
   "metadata": {},
   "outputs": [
    {
     "data": {
      "text/html": [
       "<div>\n",
       "<style scoped>\n",
       "    .dataframe tbody tr th:only-of-type {\n",
       "        vertical-align: middle;\n",
       "    }\n",
       "\n",
       "    .dataframe tbody tr th {\n",
       "        vertical-align: top;\n",
       "    }\n",
       "\n",
       "    .dataframe thead th {\n",
       "        text-align: right;\n",
       "    }\n",
       "</style>\n",
       "<table border=\"1\" class=\"dataframe\">\n",
       "  <thead>\n",
       "    <tr style=\"text-align: right;\">\n",
       "      <th></th>\n",
       "      <th>eurocode</th>\n",
       "      <th>price</th>\n",
       "    </tr>\n",
       "  </thead>\n",
       "  <tbody>\n",
       "    <tr>\n",
       "      <th>0</th>\n",
       "      <td>FR001</td>\n",
       "      <td>168000.000</td>\n",
       "    </tr>\n",
       "    <tr>\n",
       "      <th>1</th>\n",
       "      <td>FR002</td>\n",
       "      <td>88800.000</td>\n",
       "    </tr>\n",
       "    <tr>\n",
       "      <th>2</th>\n",
       "      <td>FR003</td>\n",
       "      <td>82500.000</td>\n",
       "    </tr>\n",
       "    <tr>\n",
       "      <th>3</th>\n",
       "      <td>FR004</td>\n",
       "      <td>110000.000</td>\n",
       "    </tr>\n",
       "    <tr>\n",
       "      <th>4</th>\n",
       "      <td>FR005</td>\n",
       "      <td>110390.235</td>\n",
       "    </tr>\n",
       "  </tbody>\n",
       "</table>\n",
       "</div>"
      ],
      "text/plain": [
       "  eurocode       price\n",
       "0    FR001  168000.000\n",
       "1    FR002   88800.000\n",
       "2    FR003   82500.000\n",
       "3    FR004  110000.000\n",
       "4    FR005  110390.235"
      ]
     },
     "execution_count": 250,
     "metadata": {},
     "output_type": "execute_result"
    }
   ],
   "source": [
    "eurodf.head()"
   ]
  },
  {
   "cell_type": "code",
   "execution_count": 251,
   "id": "753e3112",
   "metadata": {},
   "outputs": [
    {
     "data": {
      "text/html": [
       "<div>\n",
       "<style scoped>\n",
       "    .dataframe tbody tr th:only-of-type {\n",
       "        vertical-align: middle;\n",
       "    }\n",
       "\n",
       "    .dataframe tbody tr th {\n",
       "        vertical-align: top;\n",
       "    }\n",
       "\n",
       "    .dataframe thead th {\n",
       "        text-align: right;\n",
       "    }\n",
       "</style>\n",
       "<table border=\"1\" class=\"dataframe\">\n",
       "  <thead>\n",
       "    <tr style=\"text-align: right;\">\n",
       "      <th></th>\n",
       "      <th>eurocode</th>\n",
       "      <th>geometry</th>\n",
       "    </tr>\n",
       "  </thead>\n",
       "  <tbody>\n",
       "    <tr>\n",
       "      <th>0</th>\n",
       "      <td>FR001</td>\n",
       "      <td>POLYGON ((4.78021 46.17668, 4.78024 46.18905, ...</td>\n",
       "    </tr>\n",
       "    <tr>\n",
       "      <th>1</th>\n",
       "      <td>FR002</td>\n",
       "      <td>POLYGON ((3.17296 50.01131, 3.17382 50.01186, ...</td>\n",
       "    </tr>\n",
       "    <tr>\n",
       "      <th>2</th>\n",
       "      <td>FR003</td>\n",
       "      <td>POLYGON ((3.03207 46.79491, 3.03424 46.7908, 3...</td>\n",
       "    </tr>\n",
       "    <tr>\n",
       "      <th>3</th>\n",
       "      <td>FR004</td>\n",
       "      <td>POLYGON ((5.67604 44.19143, 5.67817 44.19051, ...</td>\n",
       "    </tr>\n",
       "    <tr>\n",
       "      <th>4</th>\n",
       "      <td>FR005</td>\n",
       "      <td>POLYGON ((6.26057 45.12685, 6.26417 45.12641, ...</td>\n",
       "    </tr>\n",
       "  </tbody>\n",
       "</table>\n",
       "</div>"
      ],
      "text/plain": [
       "  eurocode                                           geometry\n",
       "0    FR001  POLYGON ((4.78021 46.17668, 4.78024 46.18905, ...\n",
       "1    FR002  POLYGON ((3.17296 50.01131, 3.17382 50.01186, ...\n",
       "2    FR003  POLYGON ((3.03207 46.79491, 3.03424 46.7908, 3...\n",
       "3    FR004  POLYGON ((5.67604 44.19143, 5.67817 44.19051, ...\n",
       "4    FR005  POLYGON ((6.26057 45.12685, 6.26417 45.12641, ..."
      ]
     },
     "execution_count": 251,
     "metadata": {},
     "output_type": "execute_result"
    }
   ],
   "source": [
    "\n",
    "euroshp.head()"
   ]
  },
  {
   "cell_type": "code",
   "execution_count": 252,
   "id": "2b67e2d1",
   "metadata": {},
   "outputs": [],
   "source": [
    "euroshp.geometry = euroshp.geometry.simplify(0.001)\n",
    "pow_geoPath = euroshp.to_json()\n",
    "map5 = folium.Map([50, 10], zoom_start=5)\n",
    "\n",
    "\n",
    "folium.Choropleth(geo_data=pow_geoPath,  # GeoJSON\n",
    "                  data=eurodf,\n",
    "                  columns=['eurocode', 'price'],#_capped'],\n",
    "                  key_on='feature.properties.eurocode',  # key to GeoJSON\n",
    "                  fill_color='YlOrRd',\n",
    "                  fill_opacity=0.7,\n",
    "                  line_opacity=0.2,\n",
    "                  legend_name=\"Mean Transaction Price\",\n",
    "                    #bins=my_bins,  # This is the crucial part!\n",
    "                    highlight=True,\n",
    "                    smooth_factor=0 # If you simplified geometries, this can help render faster\n",
    "                    ).add_to(map5)\n",
    "\n",
    "euromerge = euroshp.merge(eurodf[['eurocode', 'price']], left_on='eurocode', right_on='eurocode', how='left')\n",
    "folium.GeoJson(\n",
    "    data=euromerge.to_json(),\n",
    "    name='Price Tooltip',\n",
    "    tooltip=folium.features.GeoJsonTooltip(\n",
    "        fields=['price'],\n",
    "        aliases=['Median Price (EUR):'],\n",
    "        localize=True\n",
    "    ),\n",
    "    style_function=lambda x: {\n",
    "        'fillColor': 'transparent',\n",
    "        'color': 'black',\n",
    "        'weight': 0.5,\n",
    "        'fillOpacity': 0.1,\n",
    "    }\n",
    ").add_to(map5)\n",
    "\n",
    "\n",
    "map5.save(outfile=\"exports/euromap.html\")"
   ]
  },
  {
   "cell_type": "code",
   "execution_count": 253,
   "id": "676ffe50",
   "metadata": {},
   "outputs": [
    {
     "data": {
      "text/plain": [
       "array(['FR001', 'FR002', 'FR003', 'FR004', 'FR005', 'FR006', 'FR007',\n",
       "       'FR008', 'FR009', 'FR010', 'FR011', 'FR012', 'FR013', 'FR014',\n",
       "       'FR015', 'FR016', 'FR017', 'FR018', 'FR019', 'FR020', 'FR021',\n",
       "       'FR022', 'FR023', 'FR024', 'FR025', 'FR026', 'FR027', 'FR028',\n",
       "       'FR029', 'FR030', 'FR031', 'FR032', 'FR033', 'FR034', 'FR035',\n",
       "       'FR036', 'FR037', 'FR038', 'FR039', 'FR040', 'FR041', 'FR042',\n",
       "       'FR043', 'FR044', 'FR045', 'FR046', 'FR047', 'FR048', 'FR049',\n",
       "       'FR050', 'FR051', 'FR052', 'FR053', 'FR054', 'FR055', 'FR056',\n",
       "       'FR058', 'FR059', 'FR060', 'FR061', 'FR062', 'FR063', 'FR064',\n",
       "       'FR065', 'FR066', 'FR069', 'FR070', 'FR071', 'FR072', 'FR073',\n",
       "       'FR074', 'FR075', 'FR076', 'FR077', 'FR078', 'FR079', 'FR080',\n",
       "       'FR081', 'FR082', 'FR083', 'FR084', 'FR085', 'FR086', 'FR087',\n",
       "       'FR088', 'FR089', 'FR090', 'FR091', 'FR092', 'FR093', 'FR094',\n",
       "       'FR095', 'FR971', 'FR972', 'FR973', 'FR974'], dtype=object)"
      ]
     },
     "execution_count": 253,
     "metadata": {},
     "output_type": "execute_result"
    }
   ],
   "source": [
    "df_fr_dep['eurocode'].unique()"
   ]
  },
  {
   "cell_type": "code",
   "execution_count": 226,
   "id": "04e06e83",
   "metadata": {},
   "outputs": [
    {
     "data": {
      "text/plain": [
       "94"
      ]
     },
     "execution_count": 226,
     "metadata": {},
     "output_type": "execute_result"
    }
   ],
   "source": [
    "len(df_fr_dep['eurocode'].unique()  )"
   ]
  },
  {
   "cell_type": "code",
   "execution_count": 246,
   "id": "a3d60a8f",
   "metadata": {},
   "outputs": [
    {
     "name": "stderr",
     "output_type": "stream",
     "text": [
      "/var/folders/g7/bnv7sj75399d5qdncpcwkjzh0000gn/T/ipykernel_58627/701886070.py:8: DtypeWarning: Columns (8,10,12,14,16,17,18,20,22,24,35,36) have mixed types. Specify dtype option on import or set low_memory=False.\n",
      "  df_fr_dep = pd.read_csv(\"data/france/full.csv\", sep=\",\", encoding=\"utf-8\")\n"
     ]
    }
   ],
   "source": [
    "shp_fr_dep = gpd.read_file('data/france/contour-des-departements.geojson')\n",
    "shp_fr_dep = shp_fr_dep.to_crs(epsg=4326)\n",
    "shp_fr_dep['code_numeric'] = pd.to_numeric(shp_fr_dep['code'], errors='coerce')\n",
    "shp_fr_dep = shp_fr_dep[shp_fr_dep['code_numeric'].notna()]\n",
    "shp_fr_dep['code'] = shp_fr_dep['code'].apply(lambda x: str(x).zfill(3))\n",
    "shp_fr_dep = shp_fr_dep.drop(columns='code_numeric')\n",
    "\n",
    "df_fr_dep = pd.read_csv(\"data/france/full.csv\", sep=\",\", encoding=\"utf-8\")\n",
    "\n",
    "\n",
    "\n",
    "# Step 1: Coerce everything to numeric, invalid ones become NaN\n",
    "df_fr_dep['code_postal'] = pd.to_numeric(df_fr_dep['code_postal'], errors='coerce')\n",
    "\n",
    "# Step 2: Drop or handle rows where postal code is NaN\n",
    "# Option A: Drop them\n",
    "df_fr_dep = df_fr_dep.dropna(subset=['code_postal'])\n",
    "\n",
    "# Step 3: Convert to int, then to string with leading zeros\n",
    "df_fr_dep['code_postal'] = df_fr_dep['code_postal'].astype(int).astype(str).str.zfill(5)\n",
    "\n",
    "\n",
    "\n",
    "df_fr_dep['code_dep'] = df_fr_dep['code_postal'].apply(lambda x: str(x)[:2] if str(x)[:2] not in [\"97\", \"98\"] else str(x)[:3])\n",
    "df_fr_dep['code_dep'] = df_fr_dep['code_dep'].apply(lambda x: str(x).zfill(3))\n",
    "df_fr_dep.dropna(inplace=True, subset=['valeur_fonciere'])\n",
    "df_fr_dep = df_fr_dep.groupby(['code_dep']).agg({'valeur_fonciere': 'median'}).reset_index()"
   ]
  },
  {
   "cell_type": "code",
   "execution_count": null,
   "id": "5c64cdde",
   "metadata": {},
   "outputs": [],
   "source": []
  }
 ],
 "metadata": {
  "kernelspec": {
   "display_name": ".venv",
   "language": "python",
   "name": "python3"
  },
  "language_info": {
   "codemirror_mode": {
    "name": "ipython",
    "version": 3
   },
   "file_extension": ".py",
   "mimetype": "text/x-python",
   "name": "python",
   "nbconvert_exporter": "python",
   "pygments_lexer": "ipython3",
   "version": "3.9.6"
  }
 },
 "nbformat": 4,
 "nbformat_minor": 5
}
